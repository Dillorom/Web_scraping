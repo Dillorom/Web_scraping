{
 "cells": [
  {
   "cell_type": "markdown",
   "metadata": {},
   "source": [
    "> In this notebook, I will be exploring basics of web scraping. \n",
    "1. I will be using BeatifulSoup to parse HTML.\n",
    "2. I will locate elements find(), find_all() methods.\n",
    "3. I will find elements by tag or attribute.\n",
    "4. I will retrieve attributes like links. \n",
    "\n",
    "> This is a workalong from Pycon 2020 workshop. https://www.youtube.com/watch?v=RUQWPJ1T6Zc&t=12s"
   ]
  },
  {
   "cell_type": "code",
   "execution_count": 42,
   "metadata": {},
   "outputs": [],
   "source": [
    "simple_html = \"\"\"\n",
    "<html>\n",
    "\n",
    "<body>\n",
    "  <h1>Today's Workshop</h1>\n",
    "  <div id='agenda' style=\"background-color: aliceblue\">\n",
    "    <h2>Agenda</h2>\n",
    "    <p>Today's workshop is comprised of three main sections:</p>\n",
    "    <ol>\n",
    "      <li>HTML Basics</li>\n",
    "      <li>Scraping Basics</li>\n",
    "      <li>Scraping Pipeline</li>\n",
    "    </ol>\n",
    "  </div>\n",
    "  \n",
    "  <div id='tools' style='background-color: honeydew'>\n",
    "    <h2>Tools</h2>\n",
    "    <p>You will be learning about two primary Python libraries:</p>  \n",
    "    <ol>\n",
    "      <li>BeautifulSoup</li>\n",
    "      <li>requests</li>\n",
    "    </ol>\n",
    "  </div>\n",
    "</body>\n",
    "\n",
    "</html>\n",
    "\"\"\""
   ]
  },
  {
   "cell_type": "code",
   "execution_count": 43,
   "metadata": {},
   "outputs": [
    {
     "data": {
      "text/html": [
       "\n",
       "<html>\n",
       "\n",
       "<body>\n",
       "  <h1>Today's Workshop</h1>\n",
       "  <div id='agenda' style=\"background-color: aliceblue\">\n",
       "    <h2>Agenda</h2>\n",
       "    <p>Today's workshop is comprised of three main sections:</p>\n",
       "    <ol>\n",
       "      <li>HTML Basics</li>\n",
       "      <li>Scraping Basics</li>\n",
       "      <li>Scraping Pipeline</li>\n",
       "    </ol>\n",
       "  </div>\n",
       "  \n",
       "  <div id='tools' style='background-color: honeydew'>\n",
       "    <h2>Tools</h2>\n",
       "    <p>You will be learning about two primary Python libraries:</p>  \n",
       "    <ol>\n",
       "      <li>BeautifulSoup</li>\n",
       "      <li>requests</li>\n",
       "    </ol>\n",
       "  </div>\n",
       "</body>\n",
       "\n",
       "</html>\n"
      ],
      "text/plain": [
       "<IPython.core.display.HTML object>"
      ]
     },
     "metadata": {},
     "output_type": "display_data"
    }
   ],
   "source": [
    "# to tell Ipython to display it as html\n",
    "from IPython.core.display import display, HTML\n",
    "display(HTML(simple_html))"
   ]
  },
  {
   "cell_type": "code",
   "execution_count": 44,
   "metadata": {},
   "outputs": [],
   "source": [
    "from bs4 import BeautifulSoup as bs"
   ]
  },
  {
   "cell_type": "code",
   "execution_count": 45,
   "metadata": {},
   "outputs": [],
   "source": [
    "soup = bs(simple_html)"
   ]
  },
  {
   "cell_type": "code",
   "execution_count": 46,
   "metadata": {},
   "outputs": [
    {
     "data": {
      "text/plain": [
       "\n",
       "<html>\n",
       "<body>\n",
       "<h1>Today's Workshop</h1>\n",
       "<div id=\"agenda\" style=\"background-color: aliceblue\">\n",
       "<h2>Agenda</h2>\n",
       "<p>Today's workshop is comprised of three main sections:</p>\n",
       "<ol>\n",
       "<li>HTML Basics</li>\n",
       "<li>Scraping Basics</li>\n",
       "<li>Scraping Pipeline</li>\n",
       "</ol>\n",
       "</div>\n",
       "<div id=\"tools\" style=\"background-color: honeydew\">\n",
       "<h2>Tools</h2>\n",
       "<p>You will be learning about two primary Python libraries:</p>\n",
       "<ol>\n",
       "<li>BeautifulSoup</li>\n",
       "<li>requests</li>\n",
       "</ol>\n",
       "</div>\n",
       "</body>\n",
       "</html>"
      ]
     },
     "execution_count": 46,
     "metadata": {},
     "output_type": "execute_result"
    }
   ],
   "source": [
    "soup"
   ]
  },
  {
   "cell_type": "code",
   "execution_count": 47,
   "metadata": {},
   "outputs": [
    {
     "data": {
      "text/plain": [
       "bs4.BeautifulSoup"
      ]
     },
     "execution_count": 47,
     "metadata": {},
     "output_type": "execute_result"
    }
   ],
   "source": [
    "type(soup)"
   ]
  },
  {
   "cell_type": "code",
   "execution_count": 48,
   "metadata": {},
   "outputs": [
    {
     "data": {
      "text/plain": [
       "<h1>Today's Workshop</h1>"
      ]
     },
     "execution_count": 48,
     "metadata": {},
     "output_type": "execute_result"
    }
   ],
   "source": [
    "soup.find('h1')"
   ]
  },
  {
   "cell_type": "code",
   "execution_count": 49,
   "metadata": {},
   "outputs": [
    {
     "data": {
      "text/plain": [
       "\"Today's Workshop\""
      ]
     },
     "execution_count": 49,
     "metadata": {},
     "output_type": "execute_result"
    }
   ],
   "source": [
    "soup.find('h1').text"
   ]
  },
  {
   "cell_type": "code",
   "execution_count": 50,
   "metadata": {},
   "outputs": [
    {
     "data": {
      "text/plain": [
       "<li>HTML Basics</li>"
      ]
     },
     "execution_count": 50,
     "metadata": {},
     "output_type": "execute_result"
    }
   ],
   "source": [
    "soup.find('li')"
   ]
  },
  {
   "cell_type": "code",
   "execution_count": 51,
   "metadata": {},
   "outputs": [
    {
     "data": {
      "text/plain": [
       "[<li>HTML Basics</li>,\n",
       " <li>Scraping Basics</li>,\n",
       " <li>Scraping Pipeline</li>,\n",
       " <li>BeautifulSoup</li>,\n",
       " <li>requests</li>]"
      ]
     },
     "execution_count": 51,
     "metadata": {},
     "output_type": "execute_result"
    }
   ],
   "source": [
    "soup.find_all('li')"
   ]
  },
  {
   "cell_type": "code",
   "execution_count": 52,
   "metadata": {},
   "outputs": [
    {
     "data": {
      "text/plain": [
       "bs4.element.ResultSet"
      ]
     },
     "execution_count": 52,
     "metadata": {},
     "output_type": "execute_result"
    }
   ],
   "source": [
    "type(soup.find_all('li'))"
   ]
  },
  {
   "cell_type": "code",
   "execution_count": 53,
   "metadata": {},
   "outputs": [
    {
     "name": "stdout",
     "output_type": "stream",
     "text": [
      "HTML Basics\n",
      "Scraping Basics\n",
      "Scraping Pipeline\n",
      "BeautifulSoup\n",
      "requests\n"
     ]
    }
   ],
   "source": [
    "for item in soup.find_all('li'):\n",
    "  print(item.text)"
   ]
  },
  {
   "cell_type": "code",
   "execution_count": 54,
   "metadata": {},
   "outputs": [
    {
     "data": {
      "text/plain": [
       "['HTML Basics',\n",
       " 'Scraping Basics',\n",
       " 'Scraping Pipeline',\n",
       " 'BeautifulSoup',\n",
       " 'requests']"
      ]
     },
     "execution_count": 54,
     "metadata": {},
     "output_type": "execute_result"
    }
   ],
   "source": [
    "learning_objectives = [item.text for item in soup.find_all('li')]\n",
    "\n",
    "learning_objectives"
   ]
  },
  {
   "cell_type": "code",
   "execution_count": 55,
   "metadata": {},
   "outputs": [
    {
     "data": {
      "text/plain": [
       "<p>Today's workshop is comprised of three main sections:</p>"
      ]
     },
     "execution_count": 55,
     "metadata": {},
     "output_type": "execute_result"
    }
   ],
   "source": [
    "soup.find('p')"
   ]
  },
  {
   "cell_type": "code",
   "execution_count": 56,
   "metadata": {},
   "outputs": [
    {
     "name": "stdout",
     "output_type": "stream",
     "text": [
      "\n",
      "HTML Basics\n",
      "Scraping Basics\n",
      "Scraping Pipeline\n",
      "\n",
      "\n",
      "BeautifulSoup\n",
      "requests\n",
      "\n"
     ]
    }
   ],
   "source": [
    "for item in soup.find_all('ol'):\n",
    "  print(item.text)"
   ]
  },
  {
   "cell_type": "code",
   "execution_count": 58,
   "metadata": {},
   "outputs": [
    {
     "data": {
      "text/plain": [
       "[<p>Today's workshop is comprised of three main sections:</p>,\n",
       " <p>You will be learning about two primary Python libraries:</p>]"
      ]
     },
     "execution_count": 58,
     "metadata": {},
     "output_type": "execute_result"
    }
   ],
   "source": [
    "soup.find_all('p')"
   ]
  },
  {
   "cell_type": "code",
   "execution_count": 59,
   "metadata": {},
   "outputs": [],
   "source": [
    "workshop_html = \"\"\"\n",
    "<html>\n",
    "\n",
    "<body>\n",
    "  <h1>Today's Workshop</h1>\n",
    "  <div id='agenda' style=\"background-color: aliceblue\">\n",
    "    <h2>Agenda</h2>\n",
    "    <p>Today's workshop is comprised of three main sections:</p>\n",
    "    <ol>\n",
    "      <li>HTML Basics</li>\n",
    "      <li>Scraping Basics</li>\n",
    "      <li>Scraping Pipeline</li>\n",
    "    </ol>\n",
    "  </div>\n",
    "  \n",
    "  <div id='tools' style='background-color: honeydew'>\n",
    "    <h2>Tools</h2>\n",
    "    <p>You will be learning about two primary Python libraries:</p>  \n",
    "    <ol>\n",
    "      <li>BeautifulSoup</li>\n",
    "      <li>requests</li>\n",
    "    </ol>\n",
    "  </div>\n",
    "</body>\n",
    "\n",
    "</html>\n",
    "\"\"\""
   ]
  },
  {
   "cell_type": "code",
   "execution_count": 60,
   "metadata": {},
   "outputs": [],
   "source": [
    "soup = bs(workshop_html)"
   ]
  },
  {
   "cell_type": "code",
   "execution_count": 61,
   "metadata": {},
   "outputs": [
    {
     "data": {
      "text/plain": [
       "bs4.BeautifulSoup"
      ]
     },
     "execution_count": 61,
     "metadata": {},
     "output_type": "execute_result"
    }
   ],
   "source": [
    "type(soup)"
   ]
  },
  {
   "cell_type": "code",
   "execution_count": 62,
   "metadata": {},
   "outputs": [
    {
     "data": {
      "text/plain": [
       "<h1>Today's Workshop</h1>"
      ]
     },
     "execution_count": 62,
     "metadata": {},
     "output_type": "execute_result"
    }
   ],
   "source": [
    "soup.find('h1')"
   ]
  },
  {
   "cell_type": "code",
   "execution_count": 64,
   "metadata": {},
   "outputs": [
    {
     "data": {
      "text/plain": [
       "\"Today's Workshop\""
      ]
     },
     "execution_count": 64,
     "metadata": {},
     "output_type": "execute_result"
    }
   ],
   "source": [
    "header = soup.find('h1').text\n",
    "header"
   ]
  },
  {
   "cell_type": "code",
   "execution_count": 65,
   "metadata": {},
   "outputs": [
    {
     "data": {
      "text/plain": [
       "[<p>Today's workshop is comprised of three main sections:</p>,\n",
       " <p>You will be learning about two primary Python libraries:</p>]"
      ]
     },
     "execution_count": 65,
     "metadata": {},
     "output_type": "execute_result"
    }
   ],
   "source": [
    "soup.find_all('p')"
   ]
  },
  {
   "cell_type": "code",
   "execution_count": 66,
   "metadata": {},
   "outputs": [
    {
     "data": {
      "text/plain": [
       "[\"Today's workshop is comprised of three main sections:\",\n",
       " 'You will be learning about two primary Python libraries:']"
      ]
     },
     "execution_count": 66,
     "metadata": {},
     "output_type": "execute_result"
    }
   ],
   "source": [
    "paragraph = [item.text for item in soup.find_all('p')]\n",
    "paragraph"
   ]
  },
  {
   "cell_type": "code",
   "execution_count": 69,
   "metadata": {},
   "outputs": [
    {
     "data": {
      "text/plain": [
       "[<li>HTML Basics</li>, <li>Scraping Basics</li>, <li>Scraping Pipeline</li>]"
      ]
     },
     "execution_count": 69,
     "metadata": {},
     "output_type": "execute_result"
    }
   ],
   "source": [
    "soup.find_all('li')[:3]"
   ]
  },
  {
   "cell_type": "code",
   "execution_count": 70,
   "metadata": {},
   "outputs": [
    {
     "data": {
      "text/plain": [
       "['HTML Basics', 'Scraping Basics', 'Scraping Pipeline']"
      ]
     },
     "execution_count": 70,
     "metadata": {},
     "output_type": "execute_result"
    }
   ],
   "source": [
    "agenda_list = [li.text for li in soup.find_all('li')[:3]]\n",
    "agenda_list"
   ]
  },
  {
   "cell_type": "code",
   "execution_count": 73,
   "metadata": {},
   "outputs": [
    {
     "data": {
      "text/plain": [
       "('pycon_info.html', <http.client.HTTPMessage at 0x1ff3d98e8b0>)"
      ]
     },
     "execution_count": 73,
     "metadata": {},
     "output_type": "execute_result"
    }
   ],
   "source": [
    "# downloading a file from the internet\n",
    "import urllib.request\n",
    "url = 'https://raw.github.com/kimfetti/Conferences/master/PyCon_2020/pycon_info.html'\n",
    "filename = 'pycon_info.html'\n",
    "urllib.request.urlretrieve(url, filename)"
   ]
  },
  {
   "cell_type": "code",
   "execution_count": 74,
   "metadata": {
    "scrolled": true
   },
   "outputs": [],
   "source": [
    "#reading the file\n",
    "pycon_html = open('pycon_info.html').read()"
   ]
  },
  {
   "cell_type": "code",
   "execution_count": 75,
   "metadata": {},
   "outputs": [
    {
     "name": "stdout",
     "output_type": "stream",
     "text": [
      "<html>\n",
      "    <head>\n",
      "        <title>PyCon 2020 Info</title>\n",
      "\n",
      "        <style>\n",
      "            body {\n",
      "                background-color: cornsilk;\n",
      "            }\n",
      "\n",
      "            h1 {\n",
      "                font-size: 40px;\n",
      "                font-family: courier new, arial;\n",
      "                text-align: center;\n",
      "                margin-top: 50px;\n",
      "            }\n",
      "\n",
      "            a {\n",
      "                color: #411B2D;\n",
      "                font-size: 20px;\n",
      "            }\n",
      "\n",
      "            p {\n",
      "                font-size: 20px;\n",
      "            }\n",
      "\n",
      "            a:hover{\n",
      "                color: white;\n",
      "                background-color: #411B2D;\n",
      "            }\n",
      "\n",
      "            #toolbar {\n",
      "                background-color: #F3B643;\n",
      "                font-family: courier new, arial;\n",
      "                font-weight: bold;\n",
      "                font-size: 16px;\n",
      "                display: flex;\n",
      "                justify-content: space-around;\n",
      "                flex-direction: row;\n",
      "                border: 1px solid black;\n",
      "                border-radius: 1px;\n",
      "                margin: auto;\n",
      "                width: 95%;\n",
      "                padding: 20px;\n",
      "            }\n",
      "\n",
      "            .events {\n",
      "                margin: auto;\n",
      "                width: 60%;\n",
      "                margin-top: 50px;\n",
      "            }\n",
      "\n",
      "            #tomorrow {\n",
      "                margin-bottom: 50px;\n",
      "            }\n",
      "\n",
      "        </style>\n",
      "    </head>\n",
      "    \n",
      "    <body>\n",
      "        <h1>PyCon 2020</h1>\n",
      "        <div id=\"toolbar\">\n",
      "            <a href=\"https://us.pycon.org/2020/about/\">WHAT IS PYCON?</a>\n",
      "            <a href=\"https://us.pycon.org/2020/schedule/tutorials/\">TUTORIAL SCHEDULE</a>\n",
      "            <a href=\"https://us.pycon.org/2020/speaking/\">SPEAKING AT PYCON</a>\n",
      "            <a href=\"https://us.pycon.org/2020/psf/\">PYTHON SOFTWARE FOUNDATION</a>\n",
      "        </div>\n",
      "\n",
      "        <div id=\"today\" class=\"events\">\n",
      "            <h2>A Selection of Today's Events</h2>\n",
      "            <p> Room 309, 9:00 am - <a href=\"https://us.pycon.org/2020/schedule/presentation/50/\">Foundations of Numerical Computing in Python</a></p>\n",
      "            <p> Room 315, 9:00 am - <a href=\"https://us.pycon.org/2020/schedule/presentation/72/\">It's Officially Legal so Let's Scrape the Web</a></p>\n",
      "            <p> Room 317, 1:20 pm - <a href=\"https://us.pycon.org/2020/schedule/presentation/54/\">A Beginner's Guide to Befriending Python</a></p>\n",
      "            <p> Room 318, 1:20 pm -<a href=\"https://us.pycon.org/2020/schedule/presentation/55/\">Scalable Computing with Dask</a></p>\n",
      "        </div>\n",
      "\n",
      "        <div id=\"tomorrow\" class=\"events\">\n",
      "            <h2>Coming Up Tomorrow</h2>\n",
      "            <p> Room 316, 9:00 am - <a href=\"https://us.pycon.org/2020/schedule/presentation/63/\">Creating a Great Python Package</a></p>\n",
      "            <p> Room 319, 9:00 am - <a href=\"https://us.pycon.org/2020/schedule/presentation/45/\">Minimum Viable Documentation</a></p>\n",
      "            <p> Room 309, 1:20 pm - <a href=\"https://us.pycon.org/2020/schedule/presentation/74/\">Effective Data Visualization</a>\n",
      "        </div>\n",
      "\n",
      "\n",
      "    </body>\n",
      "    \n",
      "</html>\n",
      "\n"
     ]
    }
   ],
   "source": [
    "print(pycon_html)"
   ]
  },
  {
   "cell_type": "code",
   "execution_count": 76,
   "metadata": {},
   "outputs": [],
   "source": [
    "soup = bs(pycon_html)"
   ]
  },
  {
   "cell_type": "code",
   "execution_count": 77,
   "metadata": {},
   "outputs": [
    {
     "data": {
      "text/plain": [
       "bs4.BeautifulSoup"
      ]
     },
     "execution_count": 77,
     "metadata": {},
     "output_type": "execute_result"
    }
   ],
   "source": [
    "type(soup)"
   ]
  },
  {
   "cell_type": "code",
   "execution_count": 78,
   "metadata": {},
   "outputs": [
    {
     "data": {
      "text/plain": [
       "[<a href=\"https://us.pycon.org/2020/about/\">WHAT IS PYCON?</a>,\n",
       " <a href=\"https://us.pycon.org/2020/schedule/tutorials/\">TUTORIAL SCHEDULE</a>,\n",
       " <a href=\"https://us.pycon.org/2020/speaking/\">SPEAKING AT PYCON</a>,\n",
       " <a href=\"https://us.pycon.org/2020/psf/\">PYTHON SOFTWARE FOUNDATION</a>,\n",
       " <a href=\"https://us.pycon.org/2020/schedule/presentation/50/\">Foundations of Numerical Computing in Python</a>,\n",
       " <a href=\"https://us.pycon.org/2020/schedule/presentation/72/\">It's Officially Legal so Let's Scrape the Web</a>,\n",
       " <a href=\"https://us.pycon.org/2020/schedule/presentation/54/\">A Beginner's Guide to Befriending Python</a>,\n",
       " <a href=\"https://us.pycon.org/2020/schedule/presentation/55/\">Scalable Computing with Dask</a>,\n",
       " <a href=\"https://us.pycon.org/2020/schedule/presentation/63/\">Creating a Great Python Package</a>,\n",
       " <a href=\"https://us.pycon.org/2020/schedule/presentation/45/\">Minimum Viable Documentation</a>,\n",
       " <a href=\"https://us.pycon.org/2020/schedule/presentation/74/\">Effective Data Visualization</a>]"
      ]
     },
     "execution_count": 78,
     "metadata": {},
     "output_type": "execute_result"
    }
   ],
   "source": [
    "soup.find_all('a')"
   ]
  },
  {
   "cell_type": "code",
   "execution_count": 79,
   "metadata": {},
   "outputs": [
    {
     "data": {
      "text/plain": [
       "<div class=\"events\" id=\"today\">\n",
       "<h2>A Selection of Today's Events</h2>\n",
       "<p> Room 309, 9:00 am - <a href=\"https://us.pycon.org/2020/schedule/presentation/50/\">Foundations of Numerical Computing in Python</a></p>\n",
       "<p> Room 315, 9:00 am - <a href=\"https://us.pycon.org/2020/schedule/presentation/72/\">It's Officially Legal so Let's Scrape the Web</a></p>\n",
       "<p> Room 317, 1:20 pm - <a href=\"https://us.pycon.org/2020/schedule/presentation/54/\">A Beginner's Guide to Befriending Python</a></p>\n",
       "<p> Room 318, 1:20 pm -<a href=\"https://us.pycon.org/2020/schedule/presentation/55/\">Scalable Computing with Dask</a></p>\n",
       "</div>"
      ]
     },
     "execution_count": 79,
     "metadata": {},
     "output_type": "execute_result"
    }
   ],
   "source": [
    "today_div = soup.find(id='today')\n",
    "today_div"
   ]
  },
  {
   "cell_type": "code",
   "execution_count": 80,
   "metadata": {},
   "outputs": [
    {
     "data": {
      "text/plain": [
       "bs4.element.Tag"
      ]
     },
     "execution_count": 80,
     "metadata": {},
     "output_type": "execute_result"
    }
   ],
   "source": [
    "type(today_div)"
   ]
  },
  {
   "cell_type": "code",
   "execution_count": 81,
   "metadata": {},
   "outputs": [
    {
     "data": {
      "text/plain": [
       "[<a href=\"https://us.pycon.org/2020/schedule/presentation/50/\">Foundations of Numerical Computing in Python</a>,\n",
       " <a href=\"https://us.pycon.org/2020/schedule/presentation/72/\">It's Officially Legal so Let's Scrape the Web</a>,\n",
       " <a href=\"https://us.pycon.org/2020/schedule/presentation/54/\">A Beginner's Guide to Befriending Python</a>,\n",
       " <a href=\"https://us.pycon.org/2020/schedule/presentation/55/\">Scalable Computing with Dask</a>]"
      ]
     },
     "execution_count": 81,
     "metadata": {},
     "output_type": "execute_result"
    }
   ],
   "source": [
    "today_div.find_all('a')"
   ]
  },
  {
   "cell_type": "code",
   "execution_count": 84,
   "metadata": {},
   "outputs": [
    {
     "data": {
      "text/plain": [
       "[<div class=\"events\" id=\"today\">\n",
       " <h2>A Selection of Today's Events</h2>\n",
       " <p> Room 309, 9:00 am - <a href=\"https://us.pycon.org/2020/schedule/presentation/50/\">Foundations of Numerical Computing in Python</a></p>\n",
       " <p> Room 315, 9:00 am - <a href=\"https://us.pycon.org/2020/schedule/presentation/72/\">It's Officially Legal so Let's Scrape the Web</a></p>\n",
       " <p> Room 317, 1:20 pm - <a href=\"https://us.pycon.org/2020/schedule/presentation/54/\">A Beginner's Guide to Befriending Python</a></p>\n",
       " <p> Room 318, 1:20 pm -<a href=\"https://us.pycon.org/2020/schedule/presentation/55/\">Scalable Computing with Dask</a></p>\n",
       " </div>,\n",
       " <div class=\"events\" id=\"tomorrow\">\n",
       " <h2>Coming Up Tomorrow</h2>\n",
       " <p> Room 316, 9:00 am - <a href=\"https://us.pycon.org/2020/schedule/presentation/63/\">Creating a Great Python Package</a></p>\n",
       " <p> Room 319, 9:00 am - <a href=\"https://us.pycon.org/2020/schedule/presentation/45/\">Minimum Viable Documentation</a></p>\n",
       " <p> Room 309, 1:20 pm - <a href=\"https://us.pycon.org/2020/schedule/presentation/74/\">Effective Data Visualization</a>\n",
       " </p></div>]"
      ]
     },
     "execution_count": 84,
     "metadata": {},
     "output_type": "execute_result"
    }
   ],
   "source": [
    "soup.find_all(class_='events')"
   ]
  },
  {
   "cell_type": "code",
   "execution_count": 85,
   "metadata": {},
   "outputs": [
    {
     "data": {
      "text/plain": [
       "[<div class=\"events\" id=\"tomorrow\">\n",
       " <h2>Coming Up Tomorrow</h2>\n",
       " <p> Room 316, 9:00 am - <a href=\"https://us.pycon.org/2020/schedule/presentation/63/\">Creating a Great Python Package</a></p>\n",
       " <p> Room 319, 9:00 am - <a href=\"https://us.pycon.org/2020/schedule/presentation/45/\">Minimum Viable Documentation</a></p>\n",
       " <p> Room 309, 1:20 pm - <a href=\"https://us.pycon.org/2020/schedule/presentation/74/\">Effective Data Visualization</a>\n",
       " </p></div>]"
      ]
     },
     "execution_count": 85,
     "metadata": {},
     "output_type": "execute_result"
    }
   ],
   "source": [
    "soup.find_all(attrs={'class': 'events', 'id': 'tomorrow'})"
   ]
  },
  {
   "cell_type": "code",
   "execution_count": 87,
   "metadata": {},
   "outputs": [
    {
     "data": {
      "text/plain": [
       "'https://us.pycon.org/2020/about/'"
      ]
     },
     "execution_count": 87,
     "metadata": {},
     "output_type": "execute_result"
    }
   ],
   "source": [
    "soup.find('a')['href']"
   ]
  },
  {
   "cell_type": "code",
   "execution_count": 88,
   "metadata": {},
   "outputs": [
    {
     "data": {
      "text/plain": [
       "['https://us.pycon.org/2020/schedule/presentation/50/',\n",
       " 'https://us.pycon.org/2020/schedule/presentation/72/',\n",
       " 'https://us.pycon.org/2020/schedule/presentation/54/',\n",
       " 'https://us.pycon.org/2020/schedule/presentation/55/']"
      ]
     },
     "execution_count": 88,
     "metadata": {},
     "output_type": "execute_result"
    }
   ],
   "source": [
    "todays_links = [link['href'] for link in today_div.find_all('a')]\n",
    "todays_links"
   ]
  },
  {
   "cell_type": "code",
   "execution_count": 89,
   "metadata": {},
   "outputs": [
    {
     "data": {
      "text/plain": [
       "[('Creating a Great Python Package',\n",
       "  'https://us.pycon.org/2020/schedule/presentation/63/'),\n",
       " ('Minimum Viable Documentation',\n",
       "  'https://us.pycon.org/2020/schedule/presentation/45/'),\n",
       " ('Effective Data Visualization',\n",
       "  'https://us.pycon.org/2020/schedule/presentation/74/')]"
      ]
     },
     "execution_count": 89,
     "metadata": {},
     "output_type": "execute_result"
    }
   ],
   "source": [
    "tomorrow_tuples = [(link.text, link['href']) for link in soup.find(id='tomorrow').find_all('a')]\n",
    "tomorrow_tuples"
   ]
  },
  {
   "cell_type": "code",
   "execution_count": 95,
   "metadata": {},
   "outputs": [
    {
     "data": {
      "text/plain": [
       "[<div class=\"events\" id=\"today\">\n",
       " <h2>A Selection of Today's Events</h2>\n",
       " <p> Room 309, 9:00 am - <a href=\"https://us.pycon.org/2020/schedule/presentation/50/\">Foundations of Numerical Computing in Python</a></p>\n",
       " <p> Room 315, 9:00 am - <a href=\"https://us.pycon.org/2020/schedule/presentation/72/\">It's Officially Legal so Let's Scrape the Web</a></p>\n",
       " <p> Room 317, 1:20 pm - <a href=\"https://us.pycon.org/2020/schedule/presentation/54/\">A Beginner's Guide to Befriending Python</a></p>\n",
       " <p> Room 318, 1:20 pm -<a href=\"https://us.pycon.org/2020/schedule/presentation/55/\">Scalable Computing with Dask</a></p>\n",
       " </div>,\n",
       " <div class=\"events\" id=\"tomorrow\">\n",
       " <h2>Coming Up Tomorrow</h2>\n",
       " <p> Room 316, 9:00 am - <a href=\"https://us.pycon.org/2020/schedule/presentation/63/\">Creating a Great Python Package</a></p>\n",
       " <p> Room 319, 9:00 am - <a href=\"https://us.pycon.org/2020/schedule/presentation/45/\">Minimum Viable Documentation</a></p>\n",
       " <p> Room 309, 1:20 pm - <a href=\"https://us.pycon.org/2020/schedule/presentation/74/\">Effective Data Visualization</a>\n",
       " </p></div>]"
      ]
     },
     "execution_count": 95,
     "metadata": {},
     "output_type": "execute_result"
    }
   ],
   "source": [
    "events = soup.find_all(class_='events')\n",
    "events"
   ]
  },
  {
   "cell_type": "code",
   "execution_count": 99,
   "metadata": {},
   "outputs": [
    {
     "data": {
      "text/plain": [
       "[\"A Selection of Today's Events\", 'Coming Up Tomorrow']"
      ]
     },
     "execution_count": 99,
     "metadata": {},
     "output_type": "execute_result"
    }
   ],
   "source": [
    "event_h2 = [day.find('h2').text for day in events]\n",
    "event_h2"
   ]
  },
  {
   "cell_type": "code",
   "execution_count": null,
   "metadata": {},
   "outputs": [],
   "source": []
  }
 ],
 "metadata": {
  "kernelspec": {
   "display_name": "Python 3",
   "language": "python",
   "name": "python3"
  },
  "language_info": {
   "codemirror_mode": {
    "name": "ipython",
    "version": 3
   },
   "file_extension": ".py",
   "mimetype": "text/x-python",
   "name": "python",
   "nbconvert_exporter": "python",
   "pygments_lexer": "ipython3",
   "version": "3.8.3"
  }
 },
 "nbformat": 4,
 "nbformat_minor": 4
}
